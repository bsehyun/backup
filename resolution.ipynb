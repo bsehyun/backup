{
 "cells": [
  {
   "cell_type": "code",
   "execution_count": 2,
   "metadata": {},
   "outputs": [],
   "source": [
    "import os\n",
    "from PIL import Image\n",
    "from PIL import ImageEnhance\n",
    "import numpy as np\n",
    "from sklearn.model_selection import train_test_split\n",
    "import matplotlib.pyplot as plt\n",
    "import tensorflow as tf\n",
    "from tensorflow import keras\n",
    "from tensorflow.keras import layers \n",
    "from tensorflow.keras.optimizers import Adam \n",
    "from swinTransformer import SwinTransformer\n",
    "from util import PatchEmbedding, PatchMerging, PatchExtract\n",
    "\n",
    "from tensorflow.keras.callbacks import EarlyStopping\n",
    "import cv2"
   ]
  },
  {
   "cell_type": "code",
   "execution_count": null,
   "metadata": {},
   "outputs": [
    {
     "ename": "error",
     "evalue": "OpenCV(4.11.0) :-1: error: (-5:Bad argument) in function 'filter2D'\n> Overload resolution failed:\n>  - src is not a numpy array, neither a scalar\n>  - Expected Ptr<cv::UMat> for argument 'src'\n",
     "output_type": "error",
     "traceback": [
      "\u001b[1;31m---------------------------------------------------------------------------\u001b[0m",
      "\u001b[1;31merror\u001b[0m                                     Traceback (most recent call last)",
      "\u001b[1;32m~\\AppData\\Local\\Temp\\ipykernel_2664\\3163117396.py\u001b[0m in \u001b[0;36m<module>\u001b[1;34m\u001b[0m\n\u001b[0;32m      2\u001b[0m \u001b[0mimage\u001b[0m \u001b[1;33m=\u001b[0m \u001b[0mImage\u001b[0m\u001b[1;33m.\u001b[0m\u001b[0mopen\u001b[0m\u001b[1;33m(\u001b[0m\u001b[0mfolder_path\u001b[0m\u001b[1;33m)\u001b[0m\u001b[1;33m\u001b[0m\u001b[0m\n\u001b[0;32m      3\u001b[0m \u001b[0mkernel\u001b[0m \u001b[1;33m=\u001b[0m \u001b[0mnp\u001b[0m\u001b[1;33m.\u001b[0m\u001b[0mones\u001b[0m\u001b[1;33m(\u001b[0m\u001b[1;33m(\u001b[0m\u001b[1;36m3\u001b[0m\u001b[1;33m,\u001b[0m \u001b[1;36m3\u001b[0m\u001b[1;33m)\u001b[0m\u001b[1;33m,\u001b[0m \u001b[0mdtype\u001b[0m\u001b[1;33m=\u001b[0m\u001b[0mnp\u001b[0m\u001b[1;33m.\u001b[0m\u001b[0mfloat64\u001b[0m\u001b[1;33m)\u001b[0m \u001b[1;33m/\u001b[0m \u001b[1;36m9.\u001b[0m\u001b[1;33m\u001b[0m\u001b[0m\n\u001b[1;32m----> 4\u001b[1;33m \u001b[0mcv2\u001b[0m\u001b[1;33m.\u001b[0m\u001b[0mfilter2D\u001b[0m\u001b[1;33m(\u001b[0m\u001b[0mimage\u001b[0m\u001b[1;33m,\u001b[0m \u001b[1;33m-\u001b[0m\u001b[1;36m1\u001b[0m\u001b[1;33m,\u001b[0m \u001b[0mkernel\u001b[0m\u001b[1;33m)\u001b[0m\u001b[1;33m\u001b[0m\u001b[0m\n\u001b[0m\u001b[0;32m      5\u001b[0m \u001b[0mimage\u001b[0m\u001b[1;33m\u001b[0m\u001b[0m\n",
      "\u001b[1;31merror\u001b[0m: OpenCV(4.11.0) :-1: error: (-5:Bad argument) in function 'filter2D'\n> Overload resolution failed:\n>  - src is not a numpy array, neither a scalar\n>  - Expected Ptr<cv::UMat> for argument 'src'\n"
     ]
    }
   ],
   "source": [
    "folder_path = \"./dataset/bad/0.png\"\n",
    "image = Image.open(folder_path)\n",
    "kernel = np.ones((3, 3), dtype=np.float64) / 9.\n",
    "cv2.LaplacianPermalink\n",
    "image"
   ]
  },
  {
   "cell_type": "code",
   "execution_count": null,
   "metadata": {},
   "outputs": [
    {
     "name": "stderr",
     "output_type": "stream",
     "text": [
      "c:\\Users\\labq001\\anaconda3\\envs\\swin\\lib\\site-packages\\ipykernel_launcher.py:25: DeprecationWarning: `np.float` is a deprecated alias for the builtin `float`. To silence this warning, use `float` by itself. Doing this will not modify any behavior and is safe. If you specifically wanted the numpy scalar type, use `np.float64` here.\n",
      "Deprecated in NumPy 1.20; for more details and guidance: https://numpy.org/devdocs/release/1.20.0-notes.html#deprecations\n",
      "c:\\Users\\labq001\\anaconda3\\envs\\swin\\lib\\site-packages\\ipykernel_launcher.py:26: DeprecationWarning: `np.float` is a deprecated alias for the builtin `float`. To silence this warning, use `float` by itself. Doing this will not modify any behavior and is safe. If you specifically wanted the numpy scalar type, use `np.float64` here.\n",
      "Deprecated in NumPy 1.20; for more details and guidance: https://numpy.org/devdocs/release/1.20.0-notes.html#deprecations\n",
      "c:\\Users\\labq001\\anaconda3\\envs\\swin\\lib\\site-packages\\ipykernel_launcher.py:27: DeprecationWarning: `np.float` is a deprecated alias for the builtin `float`. To silence this warning, use `float` by itself. Doing this will not modify any behavior and is safe. If you specifically wanted the numpy scalar type, use `np.float64` here.\n",
      "Deprecated in NumPy 1.20; for more details and guidance: https://numpy.org/devdocs/release/1.20.0-notes.html#deprecations\n",
      "c:\\Users\\labq001\\anaconda3\\envs\\swin\\lib\\site-packages\\ipykernel_launcher.py:28: DeprecationWarning: `np.float` is a deprecated alias for the builtin `float`. To silence this warning, use `float` by itself. Doing this will not modify any behavior and is safe. If you specifically wanted the numpy scalar type, use `np.float64` here.\n",
      "Deprecated in NumPy 1.20; for more details and guidance: https://numpy.org/devdocs/release/1.20.0-notes.html#deprecations\n",
      "c:\\Users\\labq001\\anaconda3\\envs\\swin\\lib\\site-packages\\ipykernel_launcher.py:30: DeprecationWarning: `np.float` is a deprecated alias for the builtin `float`. To silence this warning, use `float` by itself. Doing this will not modify any behavior and is safe. If you specifically wanted the numpy scalar type, use `np.float64` here.\n",
      "Deprecated in NumPy 1.20; for more details and guidance: https://numpy.org/devdocs/release/1.20.0-notes.html#deprecations\n"
     ]
    }
   ],
   "source": [
    "def laplacian():\n",
    "    img = cv2.imread(folder_path)\n",
    "    gray = cv2.cvtColor(img, cv2.COLOR_BGR2GRAY)\n",
    "    height, width = gray.shape\n",
    "\n",
    "    mask1 = np.array([[0, -1, 0], [-1, 4, -1], [0, -1, 0]])\n",
    "    mask2 = np.array([[1, 1, 1], [1, -8, 1], [1, 1, 1]])\n",
    "    mask3 = np.array([[-1, -1, -1], [-1, 8, -1], [-1, -1, -1]])\n",
    "    laplacian1 = cv2.filter2D(gray, -1, mask1)\n",
    "    laplacian2 = cv2.filter2D(gray, -1, mask2)\n",
    "    laplacian3 = cv2.filter2D(gray, -1, mask3)\n",
    "    laplacian4 = cv2.Laplacian(gray, -1)\n",
    "\n",
    "    gaussian = cv2.GaussianBlur(gray, (5, 5), 0)\n",
    "    LoG = cv2.filter2D(gaussian, -1, mask3)\n",
    "\n",
    "    gaussian1 = cv2.GaussianBlur(gray, (5, 5), 1.6)\n",
    "    gaussian2 = cv2.GaussianBlur(gray, (5, 5), 1)\n",
    "    DoG = np.zeros_like(gray)\n",
    "    for i in range(height):\n",
    "        for j in range(width):\n",
    "            DoG[i][j] = float(gaussian1[i][j]) - float(gaussian2[i][j])\n",
    "\n",
    "    cv2.imshow('original', gray)\n",
    "    cv2.imshow('laplacian1', laplacian1.astype(np.float))\n",
    "    cv2.imshow('laplacian2', laplacian2.astype(np.float))\n",
    "    cv2.imshow('laplacian3', laplacian3.astype(np.float))\n",
    "    cv2.imshow('laplacian4', laplacian3.astype(np.float))\n",
    "    cv2.imshow('gaussian', gaussian)\n",
    "    cv2.imshow('LoG', LoG.astype(np.float))\n",
    "    cv2.imshow('gaussian1', gaussian1)\n",
    "    cv2.imshow('gaussian2', gaussian2)\n",
    "    cv2.imshow('DoG', DoG)\n",
    "    cv2.waitKey(0)\n",
    "laplacian()"
   ]
  }
 ],
 "metadata": {
  "kernelspec": {
   "display_name": "swin",
   "language": "python",
   "name": "python3"
  },
  "language_info": {
   "codemirror_mode": {
    "name": "ipython",
    "version": 3
   },
   "file_extension": ".py",
   "mimetype": "text/x-python",
   "name": "python",
   "nbconvert_exporter": "python",
   "pygments_lexer": "ipython3",
   "version": "3.7.0"
  }
 },
 "nbformat": 4,
 "nbformat_minor": 2
}
